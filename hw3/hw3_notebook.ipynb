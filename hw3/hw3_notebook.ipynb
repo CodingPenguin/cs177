{
 "cells": [
  {
   "cell_type": "markdown",
   "id": "673351ab",
   "metadata": {},
   "source": [
    "<center><h1>Homework 3: Continuous Variables & Classification</h1></center>"
   ]
  },
  {
   "cell_type": "code",
   "execution_count": 5,
   "id": "669d0345",
   "metadata": {},
   "outputs": [
    {
     "name": "stdout",
     "output_type": "stream",
     "text": [
      "Requirement already satisfied: scipy in c:\\users\\danny nguyen\\anaconda3\\lib\\site-packages (1.9.1)Note: you may need to restart the kernel to use updated packages.\n",
      "\n",
      "Requirement already satisfied: numpy<1.25.0,>=1.18.5 in c:\\users\\danny nguyen\\anaconda3\\lib\\site-packages (from scipy) (1.21.5)\n"
     ]
    }
   ],
   "source": [
    "pip install scipy"
   ]
  },
  {
   "cell_type": "code",
   "execution_count": 6,
   "id": "d02492d2",
   "metadata": {},
   "outputs": [],
   "source": [
    "import numpy as np\n",
    "from scipy.stats import norm"
   ]
  },
  {
   "cell_type": "markdown",
   "id": "d097d890",
   "metadata": {},
   "source": [
    "### Question 1 (15 points)"
   ]
  },
  {
   "cell_type": "markdown",
   "id": "924737f1",
   "metadata": {},
   "source": [
    "a) <i>What is the probability that a random program has a runtime greater than 22 seconds?</i>"
   ]
  },
  {
   "cell_type": "code",
   "execution_count": 26,
   "id": "e72c13f3",
   "metadata": {},
   "outputs": [
    {
     "name": "stdout",
     "output_type": "stream",
     "text": [
      "The probability that a random program has a runtime between 11 and 19 seconds is 0.009815328628645315.\n"
     ]
    }
   ],
   "source": [
    "ans = 1 - norm.cdf(22, loc=15, scale=3)\n",
    "\n",
    "print(f\"The probability that a random program has a runtime between 11 and 19 seconds is {ans}.\")"
   ]
  },
  {
   "cell_type": "markdown",
   "id": "779172f0",
   "metadata": {},
   "source": [
    "b) <i>What is the probability that a random program has a runtime between 11 and 19 seconds?</i>"
   ]
  },
  {
   "cell_type": "code",
   "execution_count": 27,
   "id": "dadb798d",
   "metadata": {},
   "outputs": [
    {
     "name": "stdout",
     "output_type": "stream",
     "text": [
      "The probability that a random program has a runtime between 11 and 19 seconds is 0.8175775605482642.\n"
     ]
    }
   ],
   "source": [
    "ans = norm.cdf(19, loc=15, scale=3) - (norm.cdf(11, loc=15, scale=3))\n",
    "\n",
    "print(f\"The probability that a random program has a runtime between 11 and 19 seconds is {ans}.\")"
   ]
  },
  {
   "cell_type": "markdown",
   "id": "7430fc0f",
   "metadata": {},
   "source": [
    "c) <i>The TA’s want to help the students complete their work faster. What would they have\n",
    "to lower the average runtime to so that only 1.0% of students have runtimes over 15\n",
    "seconds? Assume the standard deviation remains fixed at σ = 3.0 seconds.</i>"
   ]
  },
  {
   "cell_type": "code",
   "execution_count": 28,
   "id": "b9ddc807",
   "metadata": {},
   "outputs": [
    {
     "name": "stdout",
     "output_type": "stream",
     "text": [
      "They would have to lower the average runtime to 8.020956377877479.\n"
     ]
    }
   ],
   "source": [
    "X = norm(loc=15, scale=3)\n",
    "Z = norm.ppf(0.99)\n",
    "sigma = 3\n",
    "mu = 15 - 3 * Z\n",
    "\n",
    "print(f\"They would have to lower the average runtime to {mu}.\")"
   ]
  },
  {
   "cell_type": "markdown",
   "id": "76682b0b",
   "metadata": {},
   "source": [
    "### Question 2 (25 points)"
   ]
  },
  {
   "cell_type": "markdown",
   "id": "f97320bd",
   "metadata": {},
   "source": [
    "a) <i>The total time that it takes all 5 students ahead of you to receive help from the TA is a\n",
    "random variable. What is the mean of this total time?</i>"
   ]
  },
  {
   "cell_type": "markdown",
   "id": "2374c4ab",
   "metadata": {},
   "source": [
    "$$\n",
    "(6 * 0.7 + 9 * 0.3) * 5 = 34.5\n",
    "$$\n",
    "\n",
    "<strong>Therefore, the mean total time is 34.5 minutes.</strong>"
   ]
  },
  {
   "cell_type": "markdown",
   "id": "1e126c72",
   "metadata": {},
   "source": [
    "b) <i>What is the standard deviation of the total time taken by the 5 students ahead of you?</i>"
   ]
  },
  {
   "cell_type": "markdown",
   "id": "d5c4c37c",
   "metadata": {},
   "source": [
    "$$\n",
    "\\sqrt{5 * (6 * 0.7 + 9 * 0.3)^2} \\approx 15.43\n",
    "$$\n",
    "<strong>Therefore, the standard deviation of the total time taken is 15.43 minutes.</strong>"
   ]
  },
  {
   "cell_type": "markdown",
   "id": "6e950b21",
   "metadata": {},
   "source": [
    "c) <i>It takes the TA 10 minutes to help the first student. Given this observation, what is the\n",
    "posterior probability that the TA remembered to get coffee?</i>"
   ]
  },
  {
   "attachments": {
    "image.png": {
     "image/png": "[encoded data removed]"
    }
   },
   "cell_type": "markdown",
   "id": "d9c89ac8",
   "metadata": {},
   "source": [
    "Y is whether or not the TA remembered to get coffee.\n",
    "\n",
    "$ P(Y=1 | X = 10) \\approx 0.668 $ \n",
    "\n",
    "Screenshot of input into calculator (Desmos):\n",
    "![image.png](attachment:image.png)"
   ]
  },
  {
   "cell_type": "markdown",
   "id": "53978193",
   "metadata": {},
   "source": [
    "d) <i>Suppose that the TA has finished helping the first 4 students, and by looking at their desk,\n",
    "you see that they did remember to get coffee. If they have already spent 12 minutes with\n",
    "the fifth student, what is the mean and standard deviation of the amount of additional\n",
    "time you need to wait for help?</i>"
   ]
  },
  {
   "cell_type": "markdown",
   "id": "850e13de",
   "metadata": {},
   "source": [
    "$$\n",
    "\\mu = E[X] = \\frac{1}{\\theta} = \\frac{1}{\\frac{1}{6}} = 6 \\\\\n",
    "\\sigma = \\sqrt{Var[X]} = \\sqrt{\\frac{1}{\\theta^2}} = \\sqrt{\\frac{1}{\\frac{1}{6}^2}} = 6\n",
    "$$\n",
    "\n",
    "<strong>Because exponential distributions are memoryless, our mean time to wait is still 6 minutes, and the standard deviation is also 6 minutes.</strong>"
   ]
  },
  {
   "cell_type": "markdown",
   "id": "fe2df387",
   "metadata": {},
   "source": [
    "### Question 3 (20 points)"
   ]
  },
  {
   "cell_type": "markdown",
   "id": "e8dd53ee",
   "metadata": {},
   "source": [
    "a) <i>Suppose that a new fabrication process has just been deployed, and the probability that\n",
    "the factory manufactures correctly functioning processors is only P (Y = 0) = 0.5. What\n",
    "threshold c of the observed test suite time X = x maximizes the probability that your\n",
    "prediction is correct?</i>"
   ]
  },
  {
   "cell_type": "markdown",
   "id": "2348280d",
   "metadata": {},
   "source": [
    "Y = 0 if\n",
    "$$\n",
    "0.5 * ce^{-x} \\geq 0.5 * \\frac{1}{40} * ce^{-\\frac{c}{40}} \\\\\n",
    "= e^{\\frac{-39c}{40}} \\geq \\frac{1}{40} \\\\ \n",
    "= \\frac{-39c}{40} \\geq \\ln{\\frac{1}{40}} \\\\\n",
    "= c \\leq \\ln{\\frac{1}{40}} * 40\\: / -39 \\\\\n",
    "= c \\leq 3.78\n",
    "$$"
   ]
  },
  {
   "cell_type": "markdown",
   "id": "feb612e9",
   "metadata": {},
   "source": [
    "b) <i>Suppose that after some improvements to the new fabrication process, the probability that\n",
    "the factory manufactures correctly functioning processors increases to P (Y = 0) = 0.95.\n",
    "What threshold c of the observed test suite time X = x maximizes the probability that\n",
    "your prediction is correct?</i>"
   ]
  },
  {
   "cell_type": "markdown",
   "id": "f507a99d",
   "metadata": {},
   "source": [
    "Y = 0 if\n",
    "$$\n",
    "0.95e^{-c} \\geq 0.05 * \\frac{1}{40} * e^{\\frac{-c}{40}} \\\\\n",
    "= 760e^{\\frac{-39c}{40}} \\geq 1 \\\\\n",
    "= \\frac{-39c}{40} \\geq \\ln{\\frac{1}{760}} \\\\\n",
    "= c \\leq \\ln{\\frac{1}{760}} * 40\\: / -39 \\\\\n",
    "= c \\leq 6.80\n",
    "$$"
   ]
  },
  {
   "cell_type": "markdown",
   "id": "185d77ae",
   "metadata": {},
   "source": [
    "c) <i>Market research suggests that the loss (or cost) of a missed detection (predicting Y = 0\n",
    "when the processor is actually defective) is 500 times greater than the loss of a false alarm\n",
    "(predicting Y = 1 when the processor was correctly manufactured). Assuming again that\n",
    "P (Y = 0) = 0.95, what threshold c of the observed test suite time X = x minimizes the\n",
    "expected loss?</i>"
   ]
  },
  {
   "cell_type": "markdown",
   "id": "4c1b7cf3",
   "metadata": {},
   "source": [
    "$$\n",
    "L(1, 0) = 500 * L(0, 1) \\\\\n",
    "\\lambda_{10} = 500\\lambda_{01} \\\\\n",
    "= \\lambda_{01} * 0.05 * \\frac{1}{40} * e^{\\frac{-c}{40}} \\leq \\lambda_{10} * 0.95e^{-c} \\\\\n",
    "= \\lambda_{01} * 0.05 * \\frac{1}{40} * e^{\\frac{-c}{40}} \\leq 500\\lambda_{01} * 0.95e^{-c} \\\\\n",
    "= \\frac{25}{40} * e^{\\frac{-c}{40}} \\leq 0.95e^{-c} \\\\\n",
    "= \\frac{25}{40} \\leq 0.95e^\\frac{-39c}{40} \\\\\n",
    "= 0.657894737 \\leq e^\\frac{-39c}{40} \\\\\n",
    "= -0.418710335 \\leq \\frac{-39c}{40} \\\\\n",
    "= c \\leq 0.43\n",
    "$$"
   ]
  },
  {
   "cell_type": "markdown",
   "id": "0b0d28f2",
   "metadata": {},
   "source": [
    "### Question 4: (40 points)"
   ]
  },
  {
   "cell_type": "markdown",
   "id": "4710a6fc",
   "metadata": {},
   "source": [
    "a) <i>Derive equations for $ \\ln f_{X|Y}(x_i | 1) $ and $ \\ln f_{X|Y} (x_i | 0) $, the (natural) logarithms of the\n",
    "conditional probability density functions in Equations (2,3). For numerical robustness,\n",
    "simplify your answer so that it does not involve the exponential function.</i>"
   ]
  },
  {
   "cell_type": "markdown",
   "id": "014863e0",
   "metadata": {},
   "source": [
    "$$\n",
    "\\ln f_{X|Y}(x_i | 1) \\\\\n",
    "= \\ln{\\prod_{j=1}^{M}{\\frac{1}{\\sqrt{2\\pi\\sigma_{1j}^{2}}}exp\\left\\{-\\frac{(x_{ij} - \\mu_{1j})^2}{2\\sigma_{1j}^2}\\right\\}}} \\\\\n",
    "= \\sum_{j=1}^{M}{\\ln{\\frac{1}{\\sqrt{2\\pi\\sigma_{1j}^{2}}}} - \\frac{(x_{ij} - \\mu_{1j})^2}{2\\sigma_{1j}^2 \\sqrt{2\\pi\\sigma_{1j}^{2}}}} \\\\\n",
    "$$\n",
    "<br><br>\n",
    "$$\n",
    "\\ln f_{X|Y} (x_i | 0) \\\\\n",
    "= \\ln{\\prod_{j=1}^{M}{\\frac{1}{\\sqrt{2\\pi\\sigma_{0j}^{2}}}exp\\left\\{-\\frac{(x_{ij} - \\mu_{0j})^2}{2\\sigma_{0j}^2}\\right\\}}} \\\\\n",
    "= \\sum_{j=1}^{M}{\\ln{\\frac{1}{\\sqrt{2\\pi\\sigma_{0j}^{2}}}} - \\frac{(x_{ij} - \\mu_{0j})^2}{2\\sigma_{0j}^2 \\sqrt{2\\pi\\sigma_{0j}^{2}}}} \\\\\n",
    "$$"
   ]
  },
  {
   "cell_type": "markdown",
   "id": "019e73bb",
   "metadata": {},
   "source": [
    "b) <i>Start by assuming the classes are equally probable $(p_Y(1) = p_Y(0) = 1/2)$, and have\n",
    "unit variance $(σ^2_{1j} = σ^2_{0j} = 1)$. Write code to compute the log conditional densities from\n",
    "part (a). Then using Equation (1), classify each test example. Report your classification\n",
    "accuracy, and the numbers of false alarms and missed detections.\n",
    "Hint: Your classifer should have fewer than 10 missed detections.</i>"
   ]
  },
  {
   "cell_type": "code",
   "execution_count": 79,
   "id": "3a4e0c5b",
   "metadata": {},
   "outputs": [],
   "source": [
    "# Load data\n",
    "ozone = np.load('ozone.npz')\n",
    "trainFeat, trainLabels = ozone['trainFeat'], ozone['trainLabels']\n",
    "testFeat, testLabels = ozone['testFeat'], ozone['testLabels']\n",
    "numTrain = trainFeat.shape[0]\n",
    "numTest  = testFeat.shape[0]\n",
    "M = trainFeat.shape[1]\n",
    "\n",
    "# Split training data into two separate classes\n",
    "trainFeat0 = trainFeat[trainLabels == 0]\n",
    "trainFeat1 = trainFeat[trainLabels == 1]\n",
    "\n",
    "# Estimate mean of Gaussian f_X|Y(x_ij | y_i)\n",
    "# muhat[0,j] equals the mean of X_ij given Y_i=0\n",
    "# muhat[1,j] equals the mean of X_ij given Y_i=1\n",
    "muhat = np.zeros((2,M))\n",
    "muhat[0] = np.mean(trainFeat0, axis=0)\n",
    "muhat[1] = np.mean(trainFeat1, axis=0)"
   ]
  },
  {
   "cell_type": "code",
   "execution_count": 134,
   "id": "f1f585bd",
   "metadata": {
    "scrolled": true
   },
   "outputs": [
    {
     "name": "stdout",
     "output_type": "stream",
     "text": [
      "Test accuracy: 0.583333\n",
      "Test false alarms: 267\n",
      "Test missed detections: 3\n"
     ]
    }
   ],
   "source": [
    "# # Naive baseline classifier:  Predict all test examples are class 0\n",
    "# yHat = np.zeros(numTest)\n",
    "equation_2 = []\n",
    "for i in range(numTest):\n",
    "    curr_day = 0\n",
    "    for j in range(M):\n",
    "        curr = np.log(1/(np.sqrt(2 * np.pi))) - ((testFeat[i, j] - muhat[1, j]) ** 2) / 2\n",
    "        curr_day += curr\n",
    "        \n",
    "    equation_2.append(curr_day)\n",
    "\n",
    "equation_3 = []\n",
    "for i in range(numTest):\n",
    "    curr_day = 0\n",
    "    for j in range(M):\n",
    "        curr = np.log(1/(np.sqrt(2 * np.pi))) - ((testFeat[i, j] - muhat[0, j]) ** 2) / 2\n",
    "        curr_day += curr\n",
    "    equation_3.append(curr_day)\n",
    "\n",
    "py_1 = 0.5\n",
    "py_0 = 0.5\n",
    "\n",
    "equation_2 = np.array(equation_2)\n",
    "equation_3 = np.array(equation_3)\n",
    "\n",
    "py_1_2nd_cond = equation_2 + np.log(py_1)\n",
    "py_0_2nd_cond = equation_3 + np.log(py_0)\n",
    "\n",
    "py_1_1st_cond = (py_1 * equation_2)\n",
    "py_0_1st_cond = py_0 * equation_3\n",
    "\n",
    "yHat = np.zeros(numTest)\n",
    "yHat[np.logical_and(py_1_1st_cond > py_0_1st_cond, py_1_2nd_cond > py_0_2nd_cond)] = 1\n",
    "\n",
    "# Accuracy (fraction of test days classified correctly)\n",
    "accuracy = np.sum(yHat==testLabels)/numTest\n",
    "print('Test accuracy: %f' % accuracy)\n",
    "falseAlarms = np.sum(np.logical_and(yHat==1, testLabels==0))\n",
    "print('Test false alarms: %d' % falseAlarms)\n",
    "misses = np.sum(np.logical_and(yHat==0, testLabels==1))\n",
    "print('Test missed detections: %d' % misses)"
   ]
  },
  {
   "cell_type": "markdown",
   "id": "b6d10445",
   "metadata": {},
   "source": [
    "c) <i>Rather than assuming features have variance one, set the variance parameters σ21j , σ20j\n",
    "equal to the variance of the empirical distribution of the training data. Classify each\n",
    "test example using Equation (1) with these variance estimates. Report your classification\n",
    "accuracy, and the numbers of false alarms and missed detections.</i>"
   ]
  },
  {
   "cell_type": "code",
   "execution_count": 135,
   "id": "8769d454",
   "metadata": {},
   "outputs": [
    {
     "name": "stdout",
     "output_type": "stream",
     "text": [
      "Test accuracy: 0.739198\n",
      "Test false alarms: 167\n",
      "Test missed detections: 2\n"
     ]
    }
   ],
   "source": [
    "var_1 = np.var(trainFeat1, axis=0)\n",
    "var_0 = np.var(trainFeat0, axis=0)\n",
    "\n",
    "equation_2 = []\n",
    "for i in range(numTest):\n",
    "    curr_day = 0\n",
    "    for j in range(M):\n",
    "        curr = np.log(1/(np.sqrt(2 * np.pi * var_1[j]))) - ((testFeat[i, j] - muhat[1, j]) ** 2) / (2 * var_1[j])\n",
    "        curr_day += curr\n",
    "        \n",
    "    equation_2.append(curr_day)\n",
    "\n",
    "equation_3 = []\n",
    "for i in range(numTest):\n",
    "    curr_day = 0\n",
    "    for j in range(M):\n",
    "        curr = np.log(1/(np.sqrt(2 * np.pi * var_0[j]))) - ((testFeat[i, j] - muhat[0, j]) ** 2) / (2 * var_0[j])\n",
    "        curr_day += curr\n",
    "    equation_3.append(curr_day)\n",
    "\n",
    "py_1 = 0.5\n",
    "py_0 = 0.5\n",
    "\n",
    "equation_2 = np.array(equation_2)\n",
    "equation_3 = np.array(equation_3)\n",
    "\n",
    "py_1_2nd_cond = equation_2 + np.log(py_1)\n",
    "py_0_2nd_cond = equation_3 + np.log(py_0)\n",
    "\n",
    "py_1_1st_cond = (py_1 * equation_2)\n",
    "py_0_1st_cond = py_0 * equation_3\n",
    "\n",
    "yHat = np.zeros(numTest)\n",
    "yHat[np.logical_and(py_1_1st_cond > py_0_1st_cond, py_1_2nd_cond > py_0_2nd_cond)] = 1\n",
    "\n",
    "# Accuracy (fraction of test days classified correctly)\n",
    "accuracy = np.sum(yHat==testLabels)/numTest\n",
    "print('Test accuracy: %f' % accuracy)\n",
    "falseAlarms = np.sum(np.logical_and(yHat==1, testLabels==0))\n",
    "print('Test false alarms: %d' % falseAlarms)\n",
    "misses = np.sum(np.logical_and(yHat==0, testLabels==1))\n",
    "print('Test missed detections: %d' % misses)"
   ]
  },
  {
   "cell_type": "markdown",
   "id": "cee92ee0",
   "metadata": {},
   "source": [
    "d) <i>Rather than assuming the classes are equally probable, estimate pY (1) as the fraction of\n",
    "training examples that are ozone days. Classify each test example using Equation (1) with\n",
    "this informative class prior, and the variances from part (c). Report your classification\n",
    "accuracy, and the numbers of false alarms and missed detections.</i>"
   ]
  },
  {
   "cell_type": "code",
   "execution_count": 137,
   "id": "17ba963b",
   "metadata": {},
   "outputs": [
    {
     "name": "stdout",
     "output_type": "stream",
     "text": [
      "Test accuracy: 0.750000\n",
      "Test false alarms: 158\n",
      "Test missed detections: 4\n"
     ]
    }
   ],
   "source": [
    "var_1 = np.var(trainFeat1, axis=0)\n",
    "var_0 = np.var(trainFeat0, axis=0)\n",
    "\n",
    "equation_2 = []\n",
    "for i in range(numTest):\n",
    "    curr_day = 0\n",
    "    for j in range(M):\n",
    "        curr = np.log(1/(np.sqrt(2 * np.pi * var_1[j]))) - ((testFeat[i, j] - muhat[1, j]) ** 2) / (2 * var_1[j])\n",
    "        curr_day += curr\n",
    "        \n",
    "    equation_2.append(curr_day)\n",
    "\n",
    "equation_3 = []\n",
    "for i in range(numTest):\n",
    "    curr_day = 0\n",
    "    for j in range(M):\n",
    "        curr = np.log(1/(np.sqrt(2 * np.pi * var_0[j]))) - ((testFeat[i, j] - muhat[0, j]) ** 2) / (2 * var_0[j])\n",
    "        curr_day += curr\n",
    "    equation_3.append(curr_day)\n",
    "\n",
    "py_1 = trainFeat1.shape[0] / trainFeat.shape[0]\n",
    "py_0 = 1 - py_1\n",
    "\n",
    "equation_2 = np.array(equation_2)\n",
    "equation_3 = np.array(equation_3)\n",
    "\n",
    "py_1_2nd_cond = equation_2 + np.log(py_1)\n",
    "py_0_2nd_cond = equation_3 + np.log(py_0)\n",
    "\n",
    "py_1_1st_cond = (py_1 * equation_2)\n",
    "py_0_1st_cond = py_0 * equation_3\n",
    "\n",
    "yHat = np.zeros(numTest)\n",
    "yHat[np.logical_and(py_1_1st_cond > py_0_1st_cond, py_1_2nd_cond > py_0_2nd_cond)] = 1\n",
    "\n",
    "# Accuracy (fraction of test days classified correctly)\n",
    "accuracy = np.sum(yHat==testLabels)/numTest\n",
    "print('Test accuracy: %f' % accuracy)\n",
    "falseAlarms = np.sum(np.logical_and(yHat==1, testLabels==0))\n",
    "print('Test false alarms: %d' % falseAlarms)\n",
    "misses = np.sum(np.logical_and(yHat==0, testLabels==1))\n",
    "print('Test missed detections: %d' % misses)"
   ]
  }
 ],
 "metadata": {
  "kernelspec": {
   "display_name": "Python 3 (ipykernel)",
   "language": "python",
   "name": "python3"
  },
  "language_info": {
   "codemirror_mode": {
    "name": "ipython",
    "version": 3
   },
   "file_extension": ".py",
   "mimetype": "text/x-python",
   "name": "python",
   "nbconvert_exporter": "python",
   "pygments_lexer": "ipython3",
   "version": "3.9.13"
  }
 },
 "nbformat": 4,
 "nbformat_minor": 5
}
