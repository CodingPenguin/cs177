{
 "cells": [
  {
   "cell_type": "markdown",
   "id": "b4d9874e",
   "metadata": {},
   "source": [
    "### Question 1 (20 points)\n",
    "A system is called “k out of n” if it functions reliably when at least k of its n components\n",
    "are working; in other words, the system uses redundancy to ensure robustness to failure.\n",
    "As an example, consider a redundant array of inexpensive disks (RAID) in which one uses\n",
    "n disks to store a collection of data, and as long as at least k are functioning the data can\n",
    "be correctly read. Suppose that disks fail independently, and that the probability of an\n",
    "individual disk failing in a one-year period is p."
   ]
  },
  {
   "cell_type": "markdown",
   "id": "1e4c76f4",
   "metadata": {},
   "source": [
    "a) <i>Suppose we have a n = 3 disk array which can survive one failure (k = 2). What is the\n",
    "expected number of disk failures in one year? As a function of p, what is the probability\n",
    "that the whole array will continue to function without any data loss after one year?</i>"
   ]
  },
  {
   "cell_type": "markdown",
   "id": "eb6ac108",
   "metadata": {},
   "source": []
  },
  {
   "cell_type": "markdown",
   "id": "4d601998",
   "metadata": {},
   "source": [
    "b) <i>Suppose we have a n = 5 disk array which can survive two failures (k = 3). What is the\n",
    "expected number of disk failures in one year? As a function of p, what is the probability\n",
    "that the whole array will continue to function without any data loss after one year?</i>"
   ]
  },
  {
   "cell_type": "markdown",
   "id": "399f7f63",
   "metadata": {},
   "source": []
  },
  {
   "cell_type": "markdown",
   "id": "56e763b8",
   "metadata": {},
   "source": [
    "c) <i>Suppose p = 0.15. Which is more reliable (has greater probability of not losing any data\n",
    "in one year), the RAID from part (a) or part (b)?</i>"
   ]
  },
  {
   "cell_type": "markdown",
   "id": "d8b784a0",
   "metadata": {},
   "source": []
  },
  {
   "cell_type": "markdown",
   "id": "edf6d8a4",
   "metadata": {},
   "source": [
    "d) <i>Suppose p = 0.55. Which is more reliable, the RAID from part (a) or part (b)?</i>"
   ]
  },
  {
   "cell_type": "markdown",
   "id": "59bce220",
   "metadata": {},
   "source": []
  },
  {
   "cell_type": "markdown",
   "id": "cbeb3350",
   "metadata": {},
   "source": [
    "### Question 2 (20 points)\n",
    "Consider a social network that allows accounts to be secured with a 7-digit passcode (any\n",
    "sequence of exactly seven digits between 0-9 is valid). Assume the network has m users\n",
    "including you, and that all users choose one of the valid 7-digit passcodes uniformly at\n",
    "random. A user’s passcode is considered safe if no other user has the same passcode."
   ]
  },
  {
   "cell_type": "markdown",
   "id": "275314d8",
   "metadata": {},
   "source": [
    "a) <i>As a function of m, what is the probability that your own passcode is safe?</i>"
   ]
  },
  {
   "cell_type": "markdown",
   "id": "decadfb6",
   "metadata": {},
   "source": []
  },
  {
   "cell_type": "markdown",
   "id": "bcc20eb7",
   "metadata": {},
   "source": [
    "b) <i>How many users must there be for there to be a 50% or greater chance that your own passcode is not safe? Your answer should be a positive integer.</i>"
   ]
  },
  {
   "cell_type": "markdown",
   "id": "403f119f",
   "metadata": {},
   "source": []
  },
  {
   "cell_type": "markdown",
   "id": "304ec392",
   "metadata": {},
   "source": [
    "c) <i>As a function of m, what is the probability that all users have a safe passcode?</i>"
   ]
  },
  {
   "cell_type": "markdown",
   "id": "71e08402",
   "metadata": {},
   "source": []
  },
  {
   "cell_type": "markdown",
   "id": "1730af89",
   "metadata": {},
   "source": [
    "d) <i>How many users must there be for there to be a 50% or greater chance that at least one\n",
    "user’s passcode is not safe? Your answer should be a positive integer.</i>"
   ]
  },
  {
   "cell_type": "markdown",
   "id": "b3af893a",
   "metadata": {},
   "source": []
  },
  {
   "cell_type": "markdown",
   "id": "6be85719",
   "metadata": {},
   "source": [
    "### Question 3 (20 points)\n",
    "Consider a set of n people who are members of an online social network. Suppose that each\n",
    "pair of people are linked as “friends” independently with probability 1/2. We can think of\n",
    "their relationships as a graph with n nodes (one for each person), and an undirected edge\n",
    "between each pair that are friends. A clique is a fully connected subset of the graph, or\n",
    "equivalently a subset of people for which all pairs are friends."
   ]
  },
  {
   "cell_type": "markdown",
   "id": "cb8f7352",
   "metadata": {},
   "source": [
    "a) <i>A clique of size 2 is simply a pair of nodes that are linked by an edge. Find the expected\n",
    "number of edges as a function of the number of nodes, n. What is the expected number of\n",
    "friend relationships among n = 25 people?</i>"
   ]
  },
  {
   "cell_type": "markdown",
   "id": "d18add65",
   "metadata": {},
   "source": []
  },
  {
   "cell_type": "markdown",
   "id": "16c34a07",
   "metadata": {},
   "source": [
    "b) <i>A clique of size 3 is a triplet of nodes within which all three pairs are linked by an edge.\n",
    "Find the expected number of 3-cliques as a function of the number of nodes, n. What is\n",
    "the expected number of 3-cliques among n = 25 people?</i>"
   ]
  },
  {
   "cell_type": "markdown",
   "id": "812a5452",
   "metadata": {},
   "source": []
  },
  {
   "cell_type": "markdown",
   "id": "0ddbb426",
   "metadata": {},
   "source": [
    "c) <i>Larger cliques may occur involving groups of nodes of any size k. Derive a general formula\n",
    "for the expected number of cliques of any size 2 ≤ k ≤ n as a function of the number of\n",
    "nodes, n. What is the expected number of cliques of size k = 4 among n = 25 people?</i>"
   ]
  },
  {
   "cell_type": "markdown",
   "id": "ec6535f3",
   "metadata": {},
   "source": []
  },
  {
   "cell_type": "code",
   "execution_count": null,
   "id": "37dc4f86",
   "metadata": {},
   "outputs": [],
   "source": []
  }
 ],
 "metadata": {
  "kernelspec": {
   "display_name": "Python 3 (ipykernel)",
   "language": "python",
   "name": "python3"
  },
  "language_info": {
   "codemirror_mode": {
    "name": "ipython",
    "version": 3
   },
   "file_extension": ".py",
   "mimetype": "text/x-python",
   "name": "python",
   "nbconvert_exporter": "python",
   "pygments_lexer": "ipython3",
   "version": "3.9.13"
  }
 },
 "nbformat": 4,
 "nbformat_minor": 5
}
