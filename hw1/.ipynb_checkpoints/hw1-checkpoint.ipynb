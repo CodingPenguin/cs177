{
 "cells": [
  {
   "cell_type": "markdown",
   "id": "e9ca6800",
   "metadata": {},
   "source": [
    "<center><h1>Homework 1: Combinatorics & Empirical Distributions</h1></center>"
   ]
  },
  {
   "cell_type": "markdown",
   "id": "b4d9874e",
   "metadata": {},
   "source": [
    "### Question 1 (20 points)\n",
    "A system is called “k out of n” if it functions reliably when at least k of its n components\n",
    "are working; in other words, the system uses redundancy to ensure robustness to failure.\n",
    "As an example, consider a redundant array of inexpensive disks (RAID) in which one uses\n",
    "n disks to store a collection of data, and as long as at least k are functioning the data can\n",
    "be correctly read. Suppose that disks fail independently, and that the probability of an\n",
    "individual disk failing in a one-year period is p."
   ]
  },
  {
   "cell_type": "markdown",
   "id": "1e4c76f4",
   "metadata": {},
   "source": [
    "a) <i>Suppose we have a n = 3 disk array which can survive one failure (k = 2). What is the\n",
    "expected number of disk failures in one year? As a function of p, what is the probability\n",
    "that the whole array will continue to function without any data loss after one year?</i>"
   ]
  },
  {
   "cell_type": "markdown",
   "id": "eb6ac108",
   "metadata": {},
   "source": [
    "Number of disk failures = X. \n",
    "$$\n",
    "E(X) = np = 3p\n",
    "$$"
   ]
  },
  {
   "cell_type": "markdown",
   "id": "4d601998",
   "metadata": {},
   "source": [
    "b) <i>Suppose we have a n = 5 disk array which can survive two failures (k = 3). What is the\n",
    "expected number of disk failures in one year? As a function of p, what is the probability\n",
    "that the whole array will continue to function without any data loss after one year?</i>"
   ]
  },
  {
   "cell_type": "markdown",
   "id": "399f7f63",
   "metadata": {},
   "source": [
    "Number of disk failures = X.\n",
    "$$\n",
    "E(X) = np = 5p\n",
    "$$"
   ]
  },
  {
   "cell_type": "markdown",
   "id": "56e763b8",
   "metadata": {},
   "source": [
    "c) <i>Suppose p = 0.15. Which is more reliable (has greater probability of not losing any data\n",
    "in one year), the RAID from part (a) or part (b)?</i>"
   ]
  },
  {
   "cell_type": "markdown",
   "id": "d8b784a0",
   "metadata": {},
   "source": [
    "#### Probability that Part A RAID not losing any data, where X = number of failures:\n",
    "<br>\n",
    "$$\n",
    "P(X=0) = 0.61412 \\\\\n",
    "P(X=1) = 0.32512 \\\\\n",
    "P(X \\leq 1) = P(X=0) + P(X=1) = P(no\\:data\\:loss) = 0.93924\n",
    "$$\n",
    "\n",
    "#### Probability that Part B RAID not losing any data, where X = number of failures:\n",
    "<br>\n",
    "$$\n",
    "P(X=0) = 0.44371 \\\\\n",
    "P(X=1) = 0.3915 \\\\\n",
    "P(X=2) = 0.13818 \\\\\n",
    "P(X \\leq 2) = P(X=0) + P(X=1) + P(X=2) = P(no\\:data\\:loss) = 0.97339\n",
    "$$\n",
    "\n",
    "#### The RAID from part (b) has a greater probability of not losing any data. Therefore the RAID from part(b) is more reliable."
   ]
  },
  {
   "cell_type": "markdown",
   "id": "edf6d8a4",
   "metadata": {},
   "source": [
    "d) <i>Suppose p = 0.55. Which is more reliable, the RAID from part (a) or part (b)?</i>"
   ]
  },
  {
   "cell_type": "markdown",
   "id": "59bce220",
   "metadata": {},
   "source": [
    "#### Probability that Part A RAID not losing any data, where X = number of failures:\n",
    "<br>\n",
    "$$\n",
    "P(X=0) = 0.09113 \\\\\n",
    "P(X=1) = 0.33413 \\\\\n",
    "P(X \\leq 1) = P(X=0) + P(X=1) = P(no\\:data\\:loss) = 0.42525\n",
    "$$\n",
    "\n",
    "#### Probability that Part B RAID not losing any data, where X = number of failures:\n",
    "<br>\n",
    "$$\n",
    "P(X=0) = 0.01845 \\\\\n",
    "P(X=1) = 0.11277 \\\\\n",
    "P(X=2) = 0.27565 \\\\\n",
    "P(X \\leq 2) = P(X=0) + P(X=1) + P(X=2) = P(no\\:data\\:loss) = 0.40687\n",
    "$$\n",
    "\n",
    "#### The RAID from part (a) has a greater probability of not losing any data. Therefore the RAID from part(a) is more reliable."
   ]
  },
  {
   "cell_type": "markdown",
   "id": "9d52e0c4",
   "metadata": {},
   "source": [
    "___"
   ]
  },
  {
   "cell_type": "markdown",
   "id": "cbeb3350",
   "metadata": {},
   "source": [
    "### Question 2 (20 points)\n",
    "Consider a social network that allows accounts to be secured with a 7-digit passcode (any\n",
    "sequence of exactly seven digits between 0-9 is valid). Assume the network has m users\n",
    "including you, and that all users choose one of the valid 7-digit passcodes uniformly at\n",
    "random. A user’s passcode is considered safe if no other user has the same passcode."
   ]
  },
  {
   "cell_type": "markdown",
   "id": "275314d8",
   "metadata": {},
   "source": [
    "a) <i>As a function of m, what is the probability that your own passcode is safe?</i>"
   ]
  },
  {
   "cell_type": "markdown",
   "id": "decadfb6",
   "metadata": {},
   "source": [
    "$ 10^7 $ is the number of password combinations\n",
    "\n",
    "$$\n",
    "\\left(1 - \\frac{1}{10^7}\\right)^m \\\\\n",
    "= \\left(0.9999999\\right)^m \n",
    "$$\n",
    "\n",
    "<strong>Approximately 0.9999999 chance that my own passcode is the same as someone else's passcode. Therefore the chances that my own passcode is not safe is $ 1 - \\left(0.9999999\\right)^m $</strong>"
   ]
  },
  {
   "cell_type": "markdown",
   "id": "bcc20eb7",
   "metadata": {},
   "source": [
    "b) <i>How many users must there be for there to be a 50% or greater chance that your own passcode is not safe? Your answer should be a positive integer.</i>"
   ]
  },
  {
   "cell_type": "markdown",
   "id": "403f119f",
   "metadata": {},
   "source": [
    "$$\n",
    "0.5 = \\left(\\frac{10^7 - 1}{10^7}\\right)^m \\\\\n",
    "log(0.5) = log\\left(\\frac{10^7 - 1}{10^7}\\right)^m \\\\\n",
    "-0.301029996 = -4.34294504 * 10^{-8} * m \\\\\n",
    "m \\approx 6931471\n",
    "$$\n",
    "\n",
    "<strong>Therefore, there must be 6931471 users for there to be a 50% or greater chance that my own passcode is not safe.</strong>"
   ]
  },
  {
   "cell_type": "markdown",
   "id": "304ec392",
   "metadata": {},
   "source": [
    "c) <i>As a function of m, what is the probability that all users have a safe passcode?</i>"
   ]
  },
  {
   "cell_type": "markdown",
   "id": "71e08402",
   "metadata": {},
   "source": [
    "Probability that all users have a safe passcode is the same probability that no users share a passcode, AKA every pair of passcodes is distinct. \n",
    "\n",
    "<strong>Therefore,</strong>\n",
    "\n",
    "$$\n",
    "P(D_m) = \\prod_{i=0}^{m-1}\\left(1 - \\frac{i}{10^7}\\right)\n",
    "$$\n",
    "\n",
    "<strong>is the probability that all users have a safe passcode.</strong>"
   ]
  },
  {
   "cell_type": "markdown",
   "id": "1730af89",
   "metadata": {},
   "source": [
    "d) <i>How many users must there be for there to be a 50% or greater chance that at least one\n",
    "user’s passcode is not safe? Your answer should be a positive integer.</i>"
   ]
  },
  {
   "cell_type": "markdown",
   "id": "b3af893a",
   "metadata": {},
   "source": [
    "$$\n",
    "1 - P(D_m) = 1 - \\prod_{i=0}^{m-1}\\left(1 - \\frac{i}{10^7}\\right) \\geq 0.5 \\\\\n",
    "= 3724\n",
    "$$\n",
    "\n",
    "<strong>Therefore, there must be 3724 users for there to be a 50% or greater chance that at least one user's passcode is not safe.</strong>"
   ]
  },
  {
   "cell_type": "markdown",
   "id": "8a4305ac",
   "metadata": {},
   "source": [
    "___"
   ]
  },
  {
   "cell_type": "markdown",
   "id": "6be85719",
   "metadata": {},
   "source": [
    "### Question 3 (20 points)\n",
    "Consider a set of n people who are members of an online social network. Suppose that each\n",
    "pair of people are linked as “friends” independently with probability 1/2. We can think of\n",
    "their relationships as a graph with n nodes (one for each person), and an undirected edge\n",
    "between each pair that are friends. A clique is a fully connected subset of the graph, or\n",
    "equivalently a subset of people for which all pairs are friends."
   ]
  },
  {
   "cell_type": "markdown",
   "id": "cb8f7352",
   "metadata": {},
   "source": [
    "a) <i>A clique of size 2 is simply a pair of nodes that are linked by an edge. Find the expected\n",
    "number of edges as a function of the number of nodes, n. What is the expected number of\n",
    "friend relationships among n = 25 people?</i>"
   ]
  },
  {
   "cell_type": "markdown",
   "id": "d18add65",
   "metadata": {},
   "source": []
  },
  {
   "cell_type": "markdown",
   "id": "16c34a07",
   "metadata": {},
   "source": [
    "b) <i>A clique of size 3 is a triplet of nodes within which all three pairs are linked by an edge.\n",
    "Find the expected number of 3-cliques as a function of the number of nodes, n. What is\n",
    "the expected number of 3-cliques among n = 25 people?</i>"
   ]
  },
  {
   "cell_type": "markdown",
   "id": "812a5452",
   "metadata": {},
   "source": []
  },
  {
   "cell_type": "markdown",
   "id": "0ddbb426",
   "metadata": {},
   "source": [
    "c) <i>Larger cliques may occur involving groups of nodes of any size k. Derive a general formula\n",
    "for the expected number of cliques of any size 2 ≤ k ≤ n as a function of the number of\n",
    "nodes, n. What is the expected number of cliques of size k = 4 among n = 25 people?</i>"
   ]
  },
  {
   "cell_type": "markdown",
   "id": "ec6535f3",
   "metadata": {},
   "source": []
  },
  {
   "cell_type": "markdown",
   "id": "cce1e3c0",
   "metadata": {},
   "source": [
    "___"
   ]
  },
  {
   "cell_type": "markdown",
   "id": "cfbabbd9",
   "metadata": {},
   "source": [
    "### Question 4: (35 points)\n",
    "We will now analyze some data collected by observing the famous “Old Faithful” geyser\n",
    "in Yellowstone National Park. We define random variable S to be the time an eruption\n",
    "lasts, and random variable $T$ to be the “waiting time” until the next eruption. These are\n",
    "clearly continuous random variables, but we do not precisely know their true distribution.\n",
    "Instead we have a dataset with $n = 272$ independent observations $(s_i, t_i), i = 1, . . . , 272$, of\n",
    "the eruption time $s_i$ and subsequent waiting time $t_i$. See Figure 1 for a plot of this data."
   ]
  },
  {
   "attachments": {
    "figure1.png": {
     "image/png": "[encoded data removed]"
    }
   },
   "cell_type": "markdown",
   "id": "2c6ef36b",
   "metadata": {},
   "source": [
    "![figure1.png](attachment:figure1.png)"
   ]
  },
  {
   "cell_type": "markdown",
   "id": "3d4fc11e",
   "metadata": {},
   "source": [
    "<center>Figure 1: A “scatter plot” of the observations of Old Faithful’s eruption time (horizontal axis) and\n",
    "waiting time to the next eruption (vertical axis). Each point is one of the $n = 272$ observations.</center>"
   ]
  },
  {
   "cell_type": "markdown",
   "id": "ebdfdb4f",
   "metadata": {},
   "source": [
    "In the following questions, we compute various quantities using the empirical distribution\n",
    "of the data. The empirical distribution of eruption time and waiting time can be represented\n",
    "by a probability mass function $p_ST(s, t)$ which places probability $1/n$ on each of the $n$ data points, and probability 0 on the continuous range of other $(s, t)$ values. Under this distribution, the expected values of $S$ and $T$ then take the following simple form:"
   ]
  },
  {
   "cell_type": "code",
   "execution_count": 3,
   "id": "bb7eb087",
   "metadata": {},
   "outputs": [],
   "source": [
    "import numpy as np\n",
    "import matplotlib.pyplot as plt\n",
    "\n",
    "# Load data \n",
    "S = np.load('eruptions.npy')  # vector of observed eruption times\n",
    "T = np.load('waiting.npy')    # vector of observed waiting times\n",
    "n = S.shape[0]                # number of observations"
   ]
  },
  {
   "cell_type": "markdown",
   "id": "6f4a3e6c",
   "metadata": {},
   "source": [
    "a) <i>The variance of random variable $S$ equals $Var[S] = E[S^2] − E[S]^2$. Give formulas for\n",
    "computing $Var[S]$ and $Var[T]$ under the empirical distribution. Use Python’s `numpy.sum`\n",
    "function to write your own code that computes these variances, and report their values.</i><br>\n",
    "Hint: Various definitions of the “sample variance” can be found in statistics references,\n",
    "and they are not all equivalent to the variance of the empirical distribution."
   ]
  },
  {
   "cell_type": "code",
   "execution_count": null,
   "id": "72035474",
   "metadata": {},
   "outputs": [],
   "source": []
  },
  {
   "cell_type": "markdown",
   "id": "af32346d",
   "metadata": {},
   "source": []
  },
  {
   "cell_type": "markdown",
   "id": "68fd8680",
   "metadata": {},
   "source": [
    "b) <i>The cumulative distribution of $S$ equals $F_S(s) = P(S \\leq s)$, where the probability is under the empirical distribution. Find eruption times $\\bar{s}_1, \\bar{s}_2, \\bar{s}_3$ such that $F_S(\\bar{s}_1) = 0.25$, $F_S(\\bar{s}_2) = 0.50$, $F_S(\\bar{s}_3) = 0.75$. Using the cumulative distribution of $T$, also find waiting times  ̄$\\bar{t}_1$,  ̄$\\bar{t}_2$, $\\bar{t}_3$ such that $F_T(\\bar{t}_1) = 0.25$, $F_T(\\bar{t}_2) = 0.50$, $F_T(\\bar{t}_3) = 0.75.$</i>\n",
    "Hint: One solution would be to use Python’s `numpy.sort` function."
   ]
  },
  {
   "cell_type": "code",
   "execution_count": null,
   "id": "3804fedf",
   "metadata": {},
   "outputs": [],
   "source": []
  },
  {
   "cell_type": "markdown",
   "id": "7dd2c3b4",
   "metadata": {},
   "source": []
  },
  {
   "cell_type": "markdown",
   "id": "468a0f10",
   "metadata": {},
   "source": [
    "Consider two new random variables. Let $X$ indicate whether the eruption time $S$ is “short” or “long”: $X = 0$ if $S ≤ 3.5$, and $X = 1$ if $S > 3.5$. Let $Y$ indicate whether the waiting time\n",
    "$T$ is “short” or “long”: $Y = 0$ if $T ≤ 70$, and $Y = 1$ if $T > 70$."
   ]
  },
  {
   "cell_type": "markdown",
   "id": "43bb488b",
   "metadata": {},
   "source": [
    "c) <i>Using the empirical distribution of $S$ and $T$, determine and report the joint probability mass function $p_XY(x, y)$. Also determine and report the marginal probability mass functions $p_X(x)$ and $p_Y(y)$.</i>"
   ]
  },
  {
   "cell_type": "markdown",
   "id": "829961db",
   "metadata": {},
   "source": []
  },
  {
   "cell_type": "markdown",
   "id": "6d3e748a",
   "metadata": {},
   "source": [
    "d) <i>Are the random variables $X$ and $Y$ independent? If not, is the amount of dependence\n",
    "weak or strong? Clearly justify your answer using the probability mass functions from (c).</i>"
   ]
  },
  {
   "cell_type": "markdown",
   "id": "9e693ff9",
   "metadata": {},
   "source": []
  }
 ],
 "metadata": {
  "kernelspec": {
   "display_name": "Python 3 (ipykernel)",
   "language": "python",
   "name": "python3"
  },
  "language_info": {
   "codemirror_mode": {
    "name": "ipython",
    "version": 3
   },
   "file_extension": ".py",
   "mimetype": "text/x-python",
   "name": "python",
   "nbconvert_exporter": "python",
   "pygments_lexer": "ipython3",
   "version": "3.9.13"
  }
 },
 "nbformat": 4,
 "nbformat_minor": 5
}
